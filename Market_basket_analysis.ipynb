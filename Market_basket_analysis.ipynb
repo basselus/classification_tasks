{
 "cells": [
  {
   "cell_type": "markdown",
   "metadata": {},
   "source": [
    "# Market Basket Analysis with a-priori algorithm"
   ]
  },
  {
   "cell_type": "markdown",
   "metadata": {},
   "source": [
    "# Project description"
   ]
  },
  {
   "cell_type": "markdown",
   "metadata": {},
   "source": [
    "***Transactional data in retail sales are characterized by large volumes from which we can understand purchasing behaviors by applying machine learning techniques known as market basket analysis. They allow to assemble knowledge patterns helping to have more insights on the combination of items of any given transaction, (for example the ones that are mostly purchased as well those less purchased together), From a business perspective the goal is to trigger actionable strategies such as optimizing the place of the items sold, better target promotions or decide the best prices to apply in order to better drive retail behavior. In this project i will apply the a-priori, an unsupervized learning algorithm, which proves very effective in identifying association rules or connections in large databases. The \"Groceries\" dataset used is taken from the \"arules\" R package. For more findings and explanations on this topic you can refer to the following books:"
   ]
  },
  {
   "cell_type": "markdown",
   "metadata": {},
   "source": [
    "***1- B. Lanz,: \"Machine learning in R, Packt publishing\", 2015 : 259-284"
   ]
  },
  {
   "cell_type": "markdown",
   "metadata": {},
   "source": [
    "***2- Hahsler M, HornikK, Reutterer T. \"Implications of probabilistic data modeling for mining association rules\". In: Gaul W, Vichi M, Weihs C, ed. \"Studies in Classification, Data Analysis, and Knowledge Organization: from Data and Information Analysis to Knowledge Engineering\". New York: Springer; 2006:598–605"
   ]
  },
  {
   "cell_type": "markdown",
   "metadata": {},
   "source": [
    "# STEP 1: load and explore the dataset"
   ]
  },
  {
   "cell_type": "code",
   "execution_count": 1,
   "metadata": {},
   "outputs": [
    {
     "name": "stderr",
     "output_type": "stream",
     "text": [
      "Installing package into ‘/home/bassel/R/x86_64-pc-linux-gnu-library/3.4’\n",
      "(as ‘lib’ is unspecified)\n"
     ]
    }
   ],
   "source": [
    "install.packages(\"arules\")"
   ]
  },
  {
   "cell_type": "code",
   "execution_count": 2,
   "metadata": {},
   "outputs": [
    {
     "name": "stderr",
     "output_type": "stream",
     "text": [
      "Loading required package: Matrix\n",
      "\n",
      "Attaching package: ‘arules’\n",
      "\n",
      "The following objects are masked from ‘package:base’:\n",
      "\n",
      "    abbreviate, write\n",
      "\n"
     ]
    }
   ],
   "source": [
    "library(arules)"
   ]
  },
  {
   "cell_type": "code",
   "execution_count": 3,
   "metadata": {},
   "outputs": [
    {
     "data": {
      "text/plain": [
       "transactions as itemMatrix in sparse format with\n",
       " 9835 rows (elements/itemsets/transactions) and\n",
       " 169 columns (items) and a density of 0.02609146 \n",
       "\n",
       "most frequent items:\n",
       "      whole milk other vegetables       rolls/buns             soda \n",
       "            2513             1903             1809             1715 \n",
       "          yogurt          (Other) \n",
       "            1372            34055 \n",
       "\n",
       "element (itemset/transaction) length distribution:\n",
       "sizes\n",
       "   1    2    3    4    5    6    7    8    9   10   11   12   13   14   15   16 \n",
       "2159 1643 1299 1005  855  645  545  438  350  246  182  117   78   77   55   46 \n",
       "  17   18   19   20   21   22   23   24   26   27   28   29   32 \n",
       "  29   14   14    9   11    4    6    1    1    1    1    3    1 \n",
       "\n",
       "   Min. 1st Qu.  Median    Mean 3rd Qu.    Max. \n",
       "  1.000   2.000   3.000   4.409   6.000  32.000 \n",
       "\n",
       "includes extended item information - examples:\n",
       "            labels\n",
       "1 abrasive cleaner\n",
       "2 artif. sweetener\n",
       "3   baby cosmetics"
      ]
     },
     "metadata": {},
     "output_type": "display_data"
    }
   ],
   "source": [
    "groceries<-read.transactions(\"groceries.csv\", sep = \";\")\n",
    "summary(groceries)"
   ]
  },
  {
   "cell_type": "markdown",
   "metadata": {},
   "source": [
    "***Number of transactions = 9835. Number of different possible items in basket = 169. Number of purchased items = 43,367. Number of items in an average transaction = 4.409. Most frequent item sold = whole milk (2513/9835 =0.25), 25% of the transactions. Transaction sizes : example : 1643 transactions contain only 2 items."
   ]
  },
  {
   "cell_type": "code",
   "execution_count": 10,
   "metadata": {},
   "outputs": [
    {
     "name": "stdout",
     "output_type": "stream",
     "text": [
      "    items                     \n",
      "[1] {citrus fruit,            \n",
      "     margarine,               \n",
      "     ready soups,             \n",
      "     semi-finished bread}     \n",
      "[2] {coffee,                  \n",
      "     tropical fruit,          \n",
      "     yogurt}                  \n",
      "[3] {whole milk}              \n",
      "[4] {cream cheese,            \n",
      "     meat spreads,            \n",
      "     pip fruit,               \n",
      "     yogurt}                  \n",
      "[5] {condensed milk,          \n",
      "     long life bakery product,\n",
      "     other vegetables,        \n",
      "     whole milk}              \n"
     ]
    }
   ],
   "source": [
    "# View the first 5 transactions\n",
    "\n",
    "inspect(groceries[1:5])"
   ]
  },
  {
   "cell_type": "code",
   "execution_count": 11,
   "metadata": {},
   "outputs": [
    {
     "data": {
      "text/html": [
       "<dl class=dl-horizontal>\n",
       "\t<dt>abrasive cleaner</dt>\n",
       "\t\t<dd>0.00355871886120996</dd>\n",
       "\t<dt>artif. sweetener</dt>\n",
       "\t\t<dd>0.0032536858159634</dd>\n",
       "\t<dt>baby cosmetics</dt>\n",
       "\t\t<dd>0.000610066090493137</dd>\n",
       "</dl>\n"
      ],
      "text/latex": [
       "\\begin{description*}\n",
       "\\item[abrasive cleaner] 0.00355871886120996\n",
       "\\item[artif. sweetener] 0.0032536858159634\n",
       "\\item[baby cosmetics] 0.000610066090493137\n",
       "\\end{description*}\n"
      ],
      "text/markdown": [
       "abrasive cleaner\n",
       ":   0.00355871886120996artif. sweetener\n",
       ":   0.0032536858159634baby cosmetics\n",
       ":   0.000610066090493137\n",
       "\n"
      ],
      "text/plain": [
       "abrasive cleaner artif. sweetener   baby cosmetics \n",
       "    0.0035587189     0.0032536858     0.0006100661 "
      ]
     },
     "metadata": {},
     "output_type": "display_data"
    }
   ],
   "source": [
    "#see the the support level of the first 3 items (the proportion of transactions that contain those items) \n",
    "\n",
    "itemFrequency(groceries[,1:3])"
   ]
  },
  {
   "cell_type": "code",
   "execution_count": 7,
   "metadata": {
    "scrolled": false
   },
   "outputs": [
    {
     "data": {
      "image/png": "[encoded data removed]",
      "text/plain": [
       "plot without title"
      ]
     },
     "metadata": {},
     "output_type": "display_data"
    }
   ],
   "source": [
    "#Visualize item frequency (plot the item support)\n",
    "\n",
    "col1=\"green\"\n",
    "itemFrequencyPlot(groceries, support=0.1, col=col1)"
   ]
  },
  {
   "cell_type": "markdown",
   "metadata": {},
   "source": [
    "***in the plot above i chose to display Items with a minimum of 10% support (number of items / total number of transactions)"
   ]
  },
  {
   "cell_type": "code",
   "execution_count": 14,
   "metadata": {},
   "outputs": [
    {
     "data": {
      "image/png": "[encoded data removed]",
      "text/plain": [
       "plot without title"
      ]
     },
     "metadata": {},
     "output_type": "display_data"
    }
   ],
   "source": [
    "#Visualize top 10 items by decreasing support\n",
    "\n",
    "itemFrequencyPlot(groceries, topN=10, col=col1)"
   ]
  },
  {
   "cell_type": "code",
   "execution_count": 15,
   "metadata": {},
   "outputs": [
    {
     "data": {},
     "metadata": {},
     "output_type": "display_data"
    },
    {
     "data": {
      "image/png": "[encoded data removed]",
      "text/plain": [
       "plot without title"
      ]
     },
     "metadata": {},
     "output_type": "display_data"
    }
   ],
   "source": [
    "# Visualize the sparse matrix for the 4 first transactions \n",
    "\n",
    "image(groceries[1:4])"
   ]
  },
  {
   "cell_type": "markdown",
   "metadata": {},
   "source": [
    "***a matrix with 4 rows and 169 items requested. cells in the matrix are filled with black for\n",
    "transactions(rows) where the item is purchased"
   ]
  },
  {
   "cell_type": "code",
   "execution_count": 16,
   "metadata": {},
   "outputs": [
    {
     "data": {},
     "metadata": {},
     "output_type": "display_data"
    },
    {
     "data": {
      "image/png": "[encoded data removed]",
      "text/plain": [
       "plot without title"
      ]
     },
     "metadata": {},
     "output_type": "display_data"
    }
   ],
   "source": [
    "#display a random selection of 100 transactions \n",
    "\n",
    "image(sample(groceries, 100))"
   ]
  },
  {
   "cell_type": "markdown",
   "metadata": {},
   "source": [
    "***slightly heavily populated columns give an indication on the popular items.However the distribution does not provide useful information about the data.\n"
   ]
  },
  {
   "cell_type": "markdown",
   "metadata": {},
   "source": [
    "# STEP 2: Train a model on the data"
   ]
  },
  {
   "cell_type": "code",
   "execution_count": 4,
   "metadata": {},
   "outputs": [
    {
     "name": "stdout",
     "output_type": "stream",
     "text": [
      "Apriori\n",
      "\n",
      "Parameter specification:\n",
      " confidence minval smax arem  aval originalSupport maxtime support minlen\n",
      "       0.25    0.1    1 none FALSE            TRUE       5   0.006      2\n",
      " maxlen target   ext\n",
      "     10  rules FALSE\n",
      "\n",
      "Algorithmic control:\n",
      " filter tree heap memopt load sort verbose\n",
      "    0.1 TRUE TRUE  FALSE TRUE    2    TRUE\n",
      "\n",
      "Absolute minimum support count: 59 \n",
      "\n",
      "set item appearances ...[0 item(s)] done [0.00s].\n",
      "set transactions ...[169 item(s), 9835 transaction(s)] done [0.00s].\n",
      "sorting and recoding items ... [109 item(s)] done [0.00s].\n",
      "creating transaction tree ... done [0.00s].\n",
      "checking subsets of size 1 2 3 4 done [0.00s].\n",
      "writing ... [463 rule(s)] done [0.00s].\n",
      "creating S4 object  ... done [0.00s].\n"
     ]
    }
   ],
   "source": [
    "# Use the a priori algorithm from the package arules : \n",
    "\n",
    "basket_rules<-apriori(groceries, # the database from which the transactions are extracted\n",
    "                      parameter=list(support=0.006,   #specification of the minimum support measure required(n(x)/N)\n",
    "                                    confidence=0.25, #specification of the minimum confidence measure required\n",
    "                                    minlen=2        #specification of the minimum number of items required in the rule\n",
    "                                    )\n",
    "\n",
    "\n",
    ")"
   ]
  },
  {
   "cell_type": "code",
   "execution_count": 5,
   "metadata": {},
   "outputs": [
    {
     "data": {
      "text/plain": [
       "set of 463 rules "
      ]
     },
     "metadata": {},
     "output_type": "display_data"
    }
   ],
   "source": [
    "#inspect the rules object \n",
    "\n",
    "basket_rules"
   ]
  },
  {
   "cell_type": "markdown",
   "metadata": {
    "collapsed": true
   },
   "source": [
    "***The rules object contains a set of 463 association rules . to determine which of them are useful we have to make further findings and specifications of the model"
   ]
  },
  {
   "cell_type": "markdown",
   "metadata": {},
   "source": [
    "# STEP 3: Evaluate the model performance"
   ]
  },
  {
   "cell_type": "code",
   "execution_count": 19,
   "metadata": {},
   "outputs": [
    {
     "data": {
      "text/plain": [
       "set of 463 rules\n",
       "\n",
       "rule length distribution (lhs + rhs):sizes\n",
       "  2   3   4 \n",
       "150 297  16 \n",
       "\n",
       "   Min. 1st Qu.  Median    Mean 3rd Qu.    Max. \n",
       "  2.000   2.000   3.000   2.711   3.000   4.000 \n",
       "\n",
       "summary of quality measures:\n",
       "    support           confidence          lift            count      \n",
       " Min.   :0.006101   Min.   :0.2500   Min.   :0.9932   Min.   : 60.0  \n",
       " 1st Qu.:0.007117   1st Qu.:0.2971   1st Qu.:1.6229   1st Qu.: 70.0  \n",
       " Median :0.008744   Median :0.3554   Median :1.9332   Median : 86.0  \n",
       " Mean   :0.011539   Mean   :0.3786   Mean   :2.0351   Mean   :113.5  \n",
       " 3rd Qu.:0.012303   3rd Qu.:0.4495   3rd Qu.:2.3565   3rd Qu.:121.0  \n",
       " Max.   :0.074835   Max.   :0.6600   Max.   :3.9565   Max.   :736.0  \n",
       "\n",
       "mining info:\n",
       "      data ntransactions support confidence\n",
       " groceries          9835   0.006       0.25"
      ]
     },
     "metadata": {},
     "output_type": "display_data"
    }
   ],
   "source": [
    "#global view of the association rules of the model\n",
    "\n",
    "summary(basket_rules)"
   ]
  },
  {
   "cell_type": "markdown",
   "metadata": {},
   "source": [
    "***rule lengh distribution : count of item by rule (example 297 rules have 3 items and 16 rules have 4 items)"
   ]
  },
  {
   "cell_type": "markdown",
   "metadata": {},
   "source": [
    "***summary statistics : "
   ]
  },
  {
   "cell_type": "markdown",
   "metadata": {},
   "source": [
    "***support: computation of the number of transactions containing an item divided by the total number of transactions of the database"
   ]
  },
  {
   "cell_type": "markdown",
   "metadata": {},
   "source": [
    "***confidence: computation of the proportion of transactions in which the presence of an item x is dependant of an item y"
   ]
  },
  {
   "cell_type": "markdown",
   "metadata": {},
   "source": [
    "***lift:the purchase likelihood of an itemset compared to its typical rate of purchase when associated with another item (>1 means strong indicator of the connection between items)"
   ]
  },
  {
   "cell_type": "code",
   "execution_count": 20,
   "metadata": {},
   "outputs": [
    {
     "name": "stdout",
     "output_type": "stream",
     "text": [
      "    lhs             rhs                support     confidence lift     count\n",
      "[1] {pot plants} => {whole milk}       0.006914082 0.4000000  1.565460 68   \n",
      "[2] {pasta}      => {whole milk}       0.006100661 0.4054054  1.586614 60   \n",
      "[3] {herbs}      => {root vegetables}  0.007015760 0.4312500  3.956477 69   \n",
      "[4] {herbs}      => {other vegetables} 0.007727504 0.4750000  2.454874 76   \n"
     ]
    }
   ],
   "source": [
    "#Inspect the 4 first rules \n",
    "\n",
    "inspect(basket_rules[1:4])"
   ]
  },
  {
   "cell_type": "markdown",
   "metadata": {},
   "source": [
    "***Comments : \n",
    "support and confidence :customers buying potted plants will also buy milk : with 0.007 support and 0.400 confidence, this rule is valid in 40% of the purchases involving potted plants.\n",
    "lift value :indicates the probability of whole milk purchase compared to the average customer , given that pot plants are included in the transaction.\n",
    "lift value computation :  confidence/support = pott plants=>wole milk confidence (0.40) divided by whole milk support(.025)= 1.6 (matching the lift value show above)\n"
   ]
  },
  {
   "cell_type": "markdown",
   "metadata": {},
   "source": [
    "# STEP 4: Improve model performance"
   ]
  },
  {
   "cell_type": "markdown",
   "metadata": {},
   "source": [
    "***We may want to show the strongest rules by order of importance of the lift, the value or confidence"
   ]
  },
  {
   "cell_type": "code",
   "execution_count": 21,
   "metadata": {},
   "outputs": [
    {
     "name": "stdout",
     "output_type": "stream",
     "text": [
      "    lhs                   rhs                      support confidence     lift count\n",
      "[1] {herbs}            => {root vegetables}    0.007015760  0.4312500 3.956477    69\n",
      "[2] {berries}          => {whipped/sour cream} 0.009049314  0.2721713 3.796886    89\n",
      "[3] {other vegetables,                                                              \n",
      "     tropical fruit,                                                                \n",
      "     whole milk}       => {root vegetables}    0.007015760  0.4107143 3.768074    69\n",
      "[4] {beef,                                                                          \n",
      "     other vegetables} => {root vegetables}    0.007930859  0.4020619 3.688692    78\n",
      "[5] {other vegetables,                                                              \n",
      "     tropical fruit}   => {pip fruit}          0.009456024  0.2634561 3.482649    93\n"
     ]
    }
   ],
   "source": [
    "#Sort first 5 rules by decreasing lift value\n",
    "\n",
    "inspect(sort(basket_rules, by=\"lift\")[1:5])"
   ]
  },
  {
   "cell_type": "code",
   "execution_count": 22,
   "metadata": {},
   "outputs": [
    {
     "name": "stdout",
     "output_type": "stream",
     "text": [
      "    lhs                            rhs          support     confidence lift    \n",
      "[1] {butter,whipped/sour cream} => {whole milk} 0.006710727 0.6600000  2.583008\n",
      "[2] {butter,yogurt}             => {whole milk} 0.009354347 0.6388889  2.500387\n",
      "[3] {butter,root vegetables}    => {whole milk} 0.008235892 0.6377953  2.496107\n",
      "[4] {curd,tropical fruit}       => {whole milk} 0.006507372 0.6336634  2.479936\n",
      "[5] {butter,tropical fruit}     => {whole milk} 0.006202339 0.6224490  2.436047\n",
      "    count\n",
      "[1] 66   \n",
      "[2] 92   \n",
      "[3] 81   \n",
      "[4] 64   \n",
      "[5] 61   \n"
     ]
    }
   ],
   "source": [
    "#Sort first 5 rules by decreasing confidence value\n",
    "\n",
    "inspect(sort(basket_rules, by=\"confidence\")[1:5])"
   ]
  },
  {
   "cell_type": "code",
   "execution_count": 23,
   "metadata": {},
   "outputs": [
    {
     "name": "stdout",
     "output_type": "stream",
     "text": [
      "    lhs                   rhs                support    confidence lift    \n",
      "[1] {other vegetables} => {whole milk}       0.07483477 0.3867578  1.513634\n",
      "[2] {whole milk}       => {other vegetables} 0.07483477 0.2928770  1.513634\n",
      "[3] {rolls/buns}       => {whole milk}       0.05663447 0.3079049  1.205032\n",
      "[4] {yogurt}           => {whole milk}       0.05602440 0.4016035  1.571735\n",
      "[5] {root vegetables}  => {whole milk}       0.04890696 0.4486940  1.756031\n",
      "    count\n",
      "[1] 736  \n",
      "[2] 736  \n",
      "[3] 557  \n",
      "[4] 551  \n",
      "[5] 481  \n"
     ]
    }
   ],
   "source": [
    "#Sort first 5 rules by decreasing support value\n",
    "\n",
    "inspect(sort(basket_rules, by=\"support\")[1:5])"
   ]
  },
  {
   "cell_type": "code",
   "execution_count": 6,
   "metadata": {},
   "outputs": [],
   "source": [
    "#Identify a rule for a given item using indexation and subsetting (example the rules including berries and yogurt)\n",
    "\n",
    "berry_yogurt_rules <- subset(basket_rules, items %in% c(\"berries\",\"yogurt\"))"
   ]
  },
  {
   "cell_type": "markdown",
   "metadata": {},
   "source": [
    "# Step 5: Save rules in file or dataframe format"
   ]
  },
  {
   "cell_type": "code",
   "execution_count": 33,
   "metadata": {},
   "outputs": [
    {
     "name": "stdout",
     "output_type": "stream",
     "text": [
      "'data.frame':\t463 obs. of  5 variables:\n",
      " $ rules     : Factor w/ 463 levels \"{baking powder} => {other vegetables}\",..: 340 302 207 206 208 341 402 21 139 140 ...\n",
      " $ support   : num  0.00691 0.0061 0.00702 0.00773 0.00773 ...\n",
      " $ confidence: num  0.4 0.405 0.431 0.475 0.475 ...\n",
      " $ lift      : num  1.57 1.59 3.96 2.45 1.86 ...\n",
      " $ count     : num  68 60 69 76 76 69 70 67 63 88 ...\n"
     ]
    }
   ],
   "source": [
    "#Method 1 : xls. or csv format\n",
    "\n",
    "write(basket_rules, file = \"basket_rules.csv\",sep = \",\", quote = TRUE, row.names = FALSE)\n",
    "\n",
    "#Method 2 : create a data frame with the rules in the factor format, and numeric vectors for support, confidence, and lift\n",
    "\n",
    "basket_rules_dataframe <- as(basket_rules, \"data.frame\")\n",
    "str(basket_rules_dataframe)"
   ]
  }
 ],
 "metadata": {
  "kernelspec": {
   "display_name": "R",
   "language": "R",
   "name": "ir"
  },
  "language_info": {
   "codemirror_mode": "r",
   "file_extension": ".r",
   "mimetype": "text/x-r-source",
   "name": "R",
   "pygments_lexer": "r",
   "version": "3.4.1"
  }
 },
 "nbformat": 4,
 "nbformat_minor": 2
}
